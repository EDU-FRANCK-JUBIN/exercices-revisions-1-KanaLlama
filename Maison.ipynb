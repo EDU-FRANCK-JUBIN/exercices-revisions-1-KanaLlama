{
 "cells": [
  {
   "cell_type": "code",
   "execution_count": 1,
   "metadata": {},
   "outputs": [],
   "source": [
    "import turtle as turtle\n",
    "import time\n",
    "turtle = turtle\n",
    "\n",
    "turtle.setup(600,750,50,50)\n",
    "\n",
    "turtle.mode('logo')\n",
    "turtle.speed(4)\n",
    "turtle.shape('arrow')\n",
    "\n",
    "\n",
    "def move(pos):\n",
    "    turtle.penup()\n",
    "    turtle.goto(pos[0], pos[1])\n",
    "    turtle.pendown()\n",
    "\n",
    "def rectangle(origin, lenght, width, color = 'grey'):\n",
    "    move(origin)\n",
    "    turtle.color(color)\n",
    "    turtle.forward(lenght) # draw base\n",
    "    turtle.left(90)\n",
    "    turtle.forward(width)\n",
    "    turtle.left(90)\n",
    "    turtle.forward(lenght)\n",
    "    turtle.left(90)\n",
    "    turtle.forward(width)\n",
    "    turtle.penup()\n",
    "\n",
    "def triangle(origin, lenght, color ='grey'):\n",
    "    move(origin)\n",
    "    turtle.seth(90)\n",
    "    turtle.color(color)\n",
    "    for i in range(3):\n",
    "        turtle.forward(lenght)\n",
    "        turtle.left(120)\n",
    "    \n",
    "    "
   ]
  },
  {
   "cell_type": "code",
   "execution_count": 2,
   "metadata": {},
   "outputs": [],
   "source": [
    "origin = [0, 0]\n",
    "rectangle(origin, 80, 80)"
   ]
  },
  {
   "cell_type": "code",
   "execution_count": 3,
   "metadata": {},
   "outputs": [],
   "source": [
    "porte = [-60, 0]\n",
    "rectangle(porte, 40, 40, 'red')"
   ]
  },
  {
   "cell_type": "code",
   "execution_count": 4,
   "metadata": {},
   "outputs": [],
   "source": [
    "toit = [-80, 80]\n",
    "triangle(toit, 80, 'green')"
   ]
  },
  {
   "cell_type": "code",
   "execution_count": null,
   "metadata": {},
   "outputs": [],
   "source": []
  },
  {
   "cell_type": "code",
   "execution_count": null,
   "metadata": {},
   "outputs": [],
   "source": []
  },
  {
   "cell_type": "code",
   "execution_count": 5,
   "metadata": {},
   "outputs": [],
   "source": [
    "\n",
    "\n",
    "\n",
    "time.sleep(10)\n",
    "turtle.bye()"
   ]
  }
 ],
 "metadata": {
  "kernelspec": {
   "display_name": "Python 3",
   "language": "python",
   "name": "python3"
  },
  "language_info": {
   "codemirror_mode": {
    "name": "ipython",
    "version": 3
   },
   "file_extension": ".py",
   "mimetype": "text/x-python",
   "name": "python",
   "nbconvert_exporter": "python",
   "pygments_lexer": "ipython3",
   "version": "3.7.4"
  }
 },
 "nbformat": 4,
 "nbformat_minor": 2
}
