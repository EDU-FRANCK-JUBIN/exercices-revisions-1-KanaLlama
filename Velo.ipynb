{
 "cells": [
  {
   "cell_type": "code",
   "execution_count": 1,
   "metadata": {},
   "outputs": [],
   "source": [
    "import turtle as turtle\n",
    "import time\n",
    "turtle = turtle\n",
    "\n",
    "turtle.setup(1000,750,50,50)\n",
    "\n",
    "turtle.mode('logo')\n",
    "turtle.speed(10)\n",
    "turtle.shape('arrow')\n",
    "\n",
    "def move(pos):\n",
    "    turtle.penup()\n",
    "    turtle.goto(pos[0], pos[1])\n",
    "    turtle.pendown()\n"
   ]
  },
  {
   "cell_type": "code",
   "execution_count": 2,
   "metadata": {},
   "outputs": [],
   "source": [
    "def triangle(lenght, origin='none',color ='grey', angle = 0):\n",
    "    turtle.seth(angle)\n",
    "    if origin !='none': \n",
    "        move(origin)\n",
    "    turtle.color(color)\n",
    "    for i in range(3):\n",
    "        turtle.forward(lenght)\n",
    "        turtle.left(120)\n",
    "        \n",
    "        \n",
    "def hexagone(origin, lenght, color ='grey', angle = 0):\n",
    "    move(origin)\n",
    "    for i in range(6):\n",
    "        triangle(lenght,'none', color, -60 * i + angle)\n",
    "        \n",
    "\n",
    "def ligne(lenght, origin='none', color = 'grey', angle = 0):\n",
    "    move(origin)    \n",
    "    turtle.color(color)\n",
    "    turtle.seth(angle)\n",
    "    turtle.forward(lenght)\n",
    "        "
   ]
  },
  {
   "cell_type": "code",
   "execution_count": 3,
   "metadata": {},
   "outputs": [],
   "source": [
    "flocon1 = [-300, 250]\n",
    "hexagone(flocon1, 20, 'cyan')"
   ]
  },
  {
   "cell_type": "code",
   "execution_count": 4,
   "metadata": {},
   "outputs": [],
   "source": [
    "flocon2 = [-200, 150]\n",
    "hexagone(flocon2, 20, 'cyan')"
   ]
  },
  {
   "cell_type": "code",
   "execution_count": 5,
   "metadata": {},
   "outputs": [],
   "source": [
    "flocon3 = [-150, 250]\n",
    "hexagone(flocon3, 20, 'cyan')"
   ]
  },
  {
   "cell_type": "code",
   "execution_count": 6,
   "metadata": {},
   "outputs": [],
   "source": [
    "flocon4 = [-50, 150]\n",
    "hexagone(flocon4, 20, 'cyan')"
   ]
  },
  {
   "cell_type": "code",
   "execution_count": 7,
   "metadata": {},
   "outputs": [],
   "source": [
    "flocon5 = [0, 250]\n",
    "hexagone(flocon5, 20, 'cyan')"
   ]
  },
  {
   "cell_type": "code",
   "execution_count": 8,
   "metadata": {},
   "outputs": [],
   "source": [
    "sol = [-400 ,-300]\n",
    "ligne(800, sol, \"black\", 90)"
   ]
  },
  {
   "cell_type": "code",
   "execution_count": 9,
   "metadata": {},
   "outputs": [],
   "source": [
    "arbre =[200, -300]\n",
    "ligne(400, arbre, \"brown\",0)"
   ]
  },
  {
   "cell_type": "code",
   "execution_count": 10,
   "metadata": {},
   "outputs": [],
   "source": [
    "branche1 = [200, 10]\n",
    "ligne(90, branche1,\"brown\",-70)"
   ]
  },
  {
   "cell_type": "code",
   "execution_count": 11,
   "metadata": {},
   "outputs": [],
   "source": [
    "branche2 = [200, -130]\n",
    "ligne(90, branche2,\"brown\",-70)"
   ]
  },
  {
   "cell_type": "code",
   "execution_count": 12,
   "metadata": {},
   "outputs": [],
   "source": [
    "feuille1 = [200, 200]\n",
    "hexagone(feuille1, 100, 'green')"
   ]
  },
  {
   "cell_type": "code",
   "execution_count": 13,
   "metadata": {},
   "outputs": [],
   "source": [
    "feuille2 = [75, -75]\n",
    "hexagone(feuille2, 50, 'green')"
   ]
  },
  {
   "cell_type": "code",
   "execution_count": 14,
   "metadata": {},
   "outputs": [],
   "source": [
    "feuille3 = [75, 65]\n",
    "hexagone(feuille3, 50, 'green')"
   ]
  },
  {
   "cell_type": "code",
   "execution_count": 15,
   "metadata": {},
   "outputs": [],
   "source": [
    "roue1 =[-300 ,-250]\n",
    "hexagone(roue1, 50, 'yellow')"
   ]
  },
  {
   "cell_type": "code",
   "execution_count": 16,
   "metadata": {},
   "outputs": [],
   "source": [
    "roue2 =[-100 ,-250]\n",
    "hexagone(roue2, 50, 'yellow')"
   ]
  },
  {
   "cell_type": "code",
   "execution_count": 17,
   "metadata": {},
   "outputs": [],
   "source": [
    "squelette1 = [-100 ,-250]\n",
    "triangle(100, squelette1, 'orange', -30)"
   ]
  },
  {
   "cell_type": "code",
   "execution_count": 18,
   "metadata": {},
   "outputs": [],
   "source": [
    "squelette2 = [-200 ,-250]\n",
    "triangle(100, squelette2, 'orange', 30)"
   ]
  },
  {
   "cell_type": "code",
   "execution_count": 19,
   "metadata": {},
   "outputs": [],
   "source": [
    "fourche = [-250,-163]\n",
    "ligne(100, fourche, 'orange', 210)"
   ]
  },
  {
   "cell_type": "code",
   "execution_count": null,
   "metadata": {},
   "outputs": [],
   "source": []
  },
  {
   "cell_type": "code",
   "execution_count": 20,
   "metadata": {},
   "outputs": [],
   "source": [
    "guidon = [-50,-163]\n",
    "ligne(40, fourche, 'red', 50)"
   ]
  },
  {
   "cell_type": "code",
   "execution_count": 21,
   "metadata": {},
   "outputs": [],
   "source": [
    "selle = [-150,-163]\n",
    "ligne(40, selle, 'red', 50)"
   ]
  },
  {
   "cell_type": "code",
   "execution_count": 22,
   "metadata": {},
   "outputs": [],
   "source": [
    "selle2 = [-150,-138]\n",
    "ligne(30, selle2, 'red', 90)"
   ]
  },
  {
   "cell_type": "code",
   "execution_count": null,
   "metadata": {},
   "outputs": [],
   "source": []
  },
  {
   "cell_type": "code",
   "execution_count": null,
   "metadata": {},
   "outputs": [],
   "source": []
  },
  {
   "cell_type": "code",
   "execution_count": 23,
   "metadata": {},
   "outputs": [],
   "source": [
    "time.sleep(10)\n",
    "turtle.bye()"
   ]
  }
 ],
 "metadata": {
  "kernelspec": {
   "display_name": "Python 3",
   "language": "python",
   "name": "python3"
  },
  "language_info": {
   "codemirror_mode": {
    "name": "ipython",
    "version": 3
   },
   "file_extension": ".py",
   "mimetype": "text/x-python",
   "name": "python",
   "nbconvert_exporter": "python",
   "pygments_lexer": "ipython3",
   "version": "3.7.4"
  }
 },
 "nbformat": 4,
 "nbformat_minor": 2
}
